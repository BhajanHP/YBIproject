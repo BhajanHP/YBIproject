{
  "nbformat": 4,
  "nbformat_minor": 0,
  "metadata": {
    "colab": {
      "provenance": []
    },
    "kernelspec": {
      "name": "python3",
      "display_name": "Python 3"
    },
    "language_info": {
      "name": "python"
    }
  },
  "cells": [
    {
      "cell_type": "markdown",
      "source": [
        "#Hand Written Digit Prediction - Classification Analysis\n"
      ],
      "metadata": {
        "id": "RLy8OjoPSD9r"
      }
    },
    {
      "cell_type": "markdown",
      "source": [
        "#Import Library"
      ],
      "metadata": {
        "id": "x_mQSsaySSHY"
      }
    },
    {
      "cell_type": "code",
      "source": [
        "import pandas as pd"
      ],
      "metadata": {
        "id": "wLgsdSFrSBEi"
      },
      "execution_count": 1,
      "outputs": []
    },
    {
      "cell_type": "code",
      "source": [
        "import numpy as np"
      ],
      "metadata": {
        "id": "pjb-vaBbSZX7"
      },
      "execution_count": 2,
      "outputs": []
    },
    {
      "cell_type": "code",
      "source": [
        "import matplotlib.pyplot as plt\n"
      ],
      "metadata": {
        "id": "_SKQp2HDSdsy"
      },
      "execution_count": 3,
      "outputs": []
    },
    {
      "cell_type": "markdown",
      "source": [
        "#Import Data"
      ],
      "metadata": {
        "id": "D8nK6oMWSonE"
      }
    },
    {
      "cell_type": "code",
      "source": [
        "from sklearn.datasets import load_digits"
      ],
      "metadata": {
        "id": "P9k5w6oDSluQ"
      },
      "execution_count": 4,
      "outputs": []
    },
    {
      "cell_type": "code",
      "source": [
        "df = load_digits()"
      ],
      "metadata": {
        "id": "xBJHqG9-Smcj"
      },
      "execution_count": 5,
      "outputs": []
    },
    {
      "cell_type": "code",
      "source": [
        "_, axes = plt.subplots(nrows = 1, ncols = 4, figsize = (10, 3))\n",
        "\n",
        "for ax, image, label in zip(axes, df.images, df.target): \n",
        "  ax.set_axis_off() \n",
        "  ax.imshow(image, cmap = plt.cm.gray_r, interpolation = \"nearest\")\n",
        "  ax.set_title(\"Training %i\" % label)"
      ],
      "metadata": {
        "colab": {
          "base_uri": "https://localhost:8080/",
          "height": 227
        },
        "id": "1hVgYE2rS6LO",
        "outputId": "2c04d28e-dcf0-424b-bfdf-d6b6a9faa191"
      },
      "execution_count": 7,
      "outputs": [
        {
          "output_type": "display_data",
          "data": {
            "text/plain": [
              "<Figure size 1000x300 with 4 Axes>"
            ],
            "image/png": "[encoded data removed]"
          },
          "metadata": {}
        }
      ]
    },
    {
      "cell_type": "markdown",
      "source": [
        "#Data Preproccesing"
      ],
      "metadata": {
        "id": "Y1MvBYPYUdOj"
      }
    },
    {
      "cell_type": "markdown",
      "source": [
        "Flatten Image\n"
      ],
      "metadata": {
        "id": "YFOCzD3MUiZ8"
      }
    },
    {
      "cell_type": "code",
      "source": [
        "df.images.shape"
      ],
      "metadata": {
        "colab": {
          "base_uri": "https://localhost:8080/"
        },
        "id": "lxHe8v4sS6cr",
        "outputId": "41a63159-bd7e-4d59-f97b-18329c9e56a9"
      },
      "execution_count": 12,
      "outputs": [
        {
          "output_type": "execute_result",
          "data": {
            "text/plain": [
              "(1797, 8, 8)"
            ]
          },
          "metadata": {},
          "execution_count": 12
        }
      ]
    },
    {
      "cell_type": "code",
      "source": [
        "df.images[0]"
      ],
      "metadata": {
        "colab": {
          "base_uri": "https://localhost:8080/"
        },
        "id": "amhuz5ZyS6qj",
        "outputId": "44baccd9-3daa-4654-d751-4f942817fb32"
      },
      "execution_count": 13,
      "outputs": [
        {
          "output_type": "execute_result",
          "data": {
            "text/plain": [
              "array([[ 0.,  0.,  5., 13.,  9.,  1.,  0.,  0.],\n",
              "       [ 0.,  0., 13., 15., 10., 15.,  5.,  0.],\n",
              "       [ 0.,  3., 15.,  2.,  0., 11.,  8.,  0.],\n",
              "       [ 0.,  4., 12.,  0.,  0.,  8.,  8.,  0.],\n",
              "       [ 0.,  5.,  8.,  0.,  0.,  9.,  8.,  0.],\n",
              "       [ 0.,  4., 11.,  0.,  1., 12.,  7.,  0.],\n",
              "       [ 0.,  2., 14.,  5., 10., 12.,  0.,  0.],\n",
              "       [ 0.,  0.,  6., 13., 10.,  0.,  0.,  0.]])"
            ]
          },
          "metadata": {},
          "execution_count": 13
        }
      ]
    },
    {
      "cell_type": "code",
      "source": [
        "df.images[0].shape"
      ],
      "metadata": {
        "colab": {
          "base_uri": "https://localhost:8080/"
        },
        "id": "wL2DvD3aS61v",
        "outputId": "90963ba3-c9cc-4042-dd73-7462aba794a8"
      },
      "execution_count": 14,
      "outputs": [
        {
          "output_type": "execute_result",
          "data": {
            "text/plain": [
              "(8, 8)"
            ]
          },
          "metadata": {},
          "execution_count": 14
        }
      ]
    },
    {
      "cell_type": "code",
      "source": [
        "len(df.images)"
      ],
      "metadata": {
        "colab": {
          "base_uri": "https://localhost:8080/"
        },
        "id": "ybm-8l9_VP-i",
        "outputId": "c1812eef-f3c6-4208-f76d-a68c9318b917"
      },
      "execution_count": 15,
      "outputs": [
        {
          "output_type": "execute_result",
          "data": {
            "text/plain": [
              "1797"
            ]
          },
          "metadata": {},
          "execution_count": 15
        }
      ]
    },
    {
      "cell_type": "code",
      "source": [
        "n_samples = len(df.images)\n",
        "data = df.images.reshape(n_samples , -1)"
      ],
      "metadata": {
        "id": "uxLJp5bWVQOE"
      },
      "execution_count": 16,
      "outputs": []
    },
    {
      "cell_type": "code",
      "source": [
        "data[0]"
      ],
      "metadata": {
        "colab": {
          "base_uri": "https://localhost:8080/"
        },
        "id": "x-QHZEd8VQZb",
        "outputId": "162e497f-a5d4-4272-e9cf-90eee0bc02a1"
      },
      "execution_count": 17,
      "outputs": [
        {
          "output_type": "execute_result",
          "data": {
            "text/plain": [
              "array([ 0.,  0.,  5., 13.,  9.,  1.,  0.,  0.,  0.,  0., 13., 15., 10.,\n",
              "       15.,  5.,  0.,  0.,  3., 15.,  2.,  0., 11.,  8.,  0.,  0.,  4.,\n",
              "       12.,  0.,  0.,  8.,  8.,  0.,  0.,  5.,  8.,  0.,  0.,  9.,  8.,\n",
              "        0.,  0.,  4., 11.,  0.,  1., 12.,  7.,  0.,  0.,  2., 14.,  5.,\n",
              "       10., 12.,  0.,  0.,  0.,  0.,  6., 13., 10.,  0.,  0.,  0.])"
            ]
          },
          "metadata": {},
          "execution_count": 17
        }
      ]
    },
    {
      "cell_type": "code",
      "source": [
        "data[0].shape"
      ],
      "metadata": {
        "colab": {
          "base_uri": "https://localhost:8080/"
        },
        "id": "owNKb5rdVQkF",
        "outputId": "eca18e1c-e09f-4bfc-8787-ae674ea59076"
      },
      "execution_count": 18,
      "outputs": [
        {
          "output_type": "execute_result",
          "data": {
            "text/plain": [
              "(64,)"
            ]
          },
          "metadata": {},
          "execution_count": 18
        }
      ]
    },
    {
      "cell_type": "code",
      "source": [
        "data.shape"
      ],
      "metadata": {
        "colab": {
          "base_uri": "https://localhost:8080/"
        },
        "id": "K5AQo1bhVQnV",
        "outputId": "6a18b187-2534-4b96-b81a-35473be545da"
      },
      "execution_count": 19,
      "outputs": [
        {
          "output_type": "execute_result",
          "data": {
            "text/plain": [
              "(1797, 64)"
            ]
          },
          "metadata": {},
          "execution_count": 19
        }
      ]
    },
    {
      "cell_type": "markdown",
      "source": [
        "#Scalling Image Data"
      ],
      "metadata": {
        "id": "FZ6obk9gWAIE"
      }
    },
    {
      "cell_type": "code",
      "source": [
        "data.min()"
      ],
      "metadata": {
        "colab": {
          "base_uri": "https://localhost:8080/"
        },
        "id": "hP2FYv_AVQq1",
        "outputId": "965d82e6-ce69-4e41-d978-31f819420d26"
      },
      "execution_count": 20,
      "outputs": [
        {
          "output_type": "execute_result",
          "data": {
            "text/plain": [
              "0.0"
            ]
          },
          "metadata": {},
          "execution_count": 20
        }
      ]
    },
    {
      "cell_type": "code",
      "source": [
        "data.max()"
      ],
      "metadata": {
        "colab": {
          "base_uri": "https://localhost:8080/"
        },
        "id": "R99ROQ-KWGOw",
        "outputId": "03a77764-34b9-48b5-f915-9b46f9bd7cdd"
      },
      "execution_count": 21,
      "outputs": [
        {
          "output_type": "execute_result",
          "data": {
            "text/plain": [
              "16.0"
            ]
          },
          "metadata": {},
          "execution_count": 21
        }
      ]
    },
    {
      "cell_type": "code",
      "source": [
        "data = data/16"
      ],
      "metadata": {
        "id": "i_JEVWgbWGd5"
      },
      "execution_count": 22,
      "outputs": []
    },
    {
      "cell_type": "code",
      "source": [
        "data.min()"
      ],
      "metadata": {
        "colab": {
          "base_uri": "https://localhost:8080/"
        },
        "id": "CzKyWYrJWGm_",
        "outputId": "7f1a87b6-df45-4dbf-cdd8-c87e5231bb7e"
      },
      "execution_count": 23,
      "outputs": [
        {
          "output_type": "execute_result",
          "data": {
            "text/plain": [
              "0.0"
            ]
          },
          "metadata": {},
          "execution_count": 23
        }
      ]
    },
    {
      "cell_type": "code",
      "source": [
        "data.max()"
      ],
      "metadata": {
        "colab": {
          "base_uri": "https://localhost:8080/"
        },
        "id": "mNne8P_eWGqP",
        "outputId": "e10358a5-29a2-4264-a5e6-570d5ca5fd2f"
      },
      "execution_count": 24,
      "outputs": [
        {
          "output_type": "execute_result",
          "data": {
            "text/plain": [
              "1.0"
            ]
          },
          "metadata": {},
          "execution_count": 24
        }
      ]
    },
    {
      "cell_type": "code",
      "source": [
        "data[0]"
      ],
      "metadata": {
        "colab": {
          "base_uri": "https://localhost:8080/"
        },
        "id": "PUuRN4qEWGtf",
        "outputId": "593fcce2-2c27-4b04-9945-8801221caf86"
      },
      "execution_count": 25,
      "outputs": [
        {
          "output_type": "execute_result",
          "data": {
            "text/plain": [
              "array([0.    , 0.    , 0.3125, 0.8125, 0.5625, 0.0625, 0.    , 0.    ,\n",
              "       0.    , 0.    , 0.8125, 0.9375, 0.625 , 0.9375, 0.3125, 0.    ,\n",
              "       0.    , 0.1875, 0.9375, 0.125 , 0.    , 0.6875, 0.5   , 0.    ,\n",
              "       0.    , 0.25  , 0.75  , 0.    , 0.    , 0.5   , 0.5   , 0.    ,\n",
              "       0.    , 0.3125, 0.5   , 0.    , 0.    , 0.5625, 0.5   , 0.    ,\n",
              "       0.    , 0.25  , 0.6875, 0.    , 0.0625, 0.75  , 0.4375, 0.    ,\n",
              "       0.    , 0.125 , 0.875 , 0.3125, 0.625 , 0.75  , 0.    , 0.    ,\n",
              "       0.    , 0.    , 0.375 , 0.8125, 0.625 , 0.    , 0.    , 0.    ])"
            ]
          },
          "metadata": {},
          "execution_count": 25
        }
      ]
    },
    {
      "cell_type": "markdown",
      "source": [
        "#Train Test Split"
      ],
      "metadata": {
        "id": "72LpBhy4Wg9w"
      }
    },
    {
      "cell_type": "code",
      "source": [
        "from sklearn.model_selection import train_test_split"
      ],
      "metadata": {
        "id": "DK6KVVDuWeXZ"
      },
      "execution_count": 26,
      "outputs": []
    },
    {
      "cell_type": "code",
      "source": [
        "x_train , x_test , y_train , y_test = train_test_split(data , df.target ,test_size = 0.3)"
      ],
      "metadata": {
        "id": "HAb8DWh2Welm"
      },
      "execution_count": 28,
      "outputs": []
    },
    {
      "cell_type": "code",
      "source": [
        "x_train.shape , x_test.shape , y_train.shape , y_test.shape"
      ],
      "metadata": {
        "colab": {
          "base_uri": "https://localhost:8080/"
        },
        "id": "iayNOm2dWepT",
        "outputId": "a726045c-0628-4d17-ee73-fd5eac2cc9f2"
      },
      "execution_count": 30,
      "outputs": [
        {
          "output_type": "execute_result",
          "data": {
            "text/plain": [
              "((1257, 64), (540, 64), (1257,), (540,))"
            ]
          },
          "metadata": {},
          "execution_count": 30
        }
      ]
    },
    {
      "cell_type": "markdown",
      "source": [
        "#Random Forest Model"
      ],
      "metadata": {
        "id": "X26i2AIOXeGS"
      }
    },
    {
      "cell_type": "code",
      "source": [
        "from sklearn.ensemble import RandomForestClassifier"
      ],
      "metadata": {
        "id": "iq1Rw641Wesx"
      },
      "execution_count": 32,
      "outputs": []
    },
    {
      "cell_type": "code",
      "source": [
        "rf = RandomForestClassifier()"
      ],
      "metadata": {
        "id": "-vEOUJrcWevy"
      },
      "execution_count": 35,
      "outputs": []
    },
    {
      "cell_type": "code",
      "source": [
        "rf.fit(x_train , y_train)"
      ],
      "metadata": {
        "colab": {
          "base_uri": "https://localhost:8080/",
          "height": 74
        },
        "id": "pgOy-pQuWezx",
        "outputId": "599f364b-d5aa-4dc3-bc19-c5e6ef8b17a6"
      },
      "execution_count": 36,
      "outputs": [
        {
          "output_type": "execute_result",
          "data": {
            "text/plain": [
              "RandomForestClassifier()"
            ],
            "text/html": [
              "<style>#sk-container-id-1 {color: black;background-color: white;}#sk-container-id-1 pre{padding: 0;}#sk-container-id-1 div.sk-toggleable {background-color: white;}#sk-container-id-1 label.sk-toggleable__label {cursor: pointer;display: block;width: 100%;margin-bottom: 0;padding: 0.3em;box-sizing: border-box;text-align: center;}#sk-container-id-1 label.sk-toggleable__label-arrow:before {content: \"▸\";float: left;margin-right: 0.25em;color: #696969;}#sk-container-id-1 label.sk-toggleable__label-arrow:hover:before {color: black;}#sk-container-id-1 div.sk-estimator:hover label.sk-toggleable__label-arrow:before {color: black;}#sk-container-id-1 div.sk-toggleable__content {max-height: 0;max-width: 0;overflow: hidden;text-align: left;background-color: #f0f8ff;}#sk-container-id-1 div.sk-toggleable__content pre {margin: 0.2em;color: black;border-radius: 0.25em;background-color: #f0f8ff;}#sk-container-id-1 input.sk-toggleable__control:checked~div.sk-toggleable__content {max-height: 200px;max-width: 100%;overflow: auto;}#sk-container-id-1 input.sk-toggleable__control:checked~label.sk-toggleable__label-arrow:before {content: \"▾\";}#sk-container-id-1 div.sk-estimator input.sk-toggleable__control:checked~label.sk-toggleable__label {background-color: #d4ebff;}#sk-container-id-1 div.sk-label input.sk-toggleable__control:checked~label.sk-toggleable__label {background-color: #d4ebff;}#sk-container-id-1 input.sk-hidden--visually {border: 0;clip: rect(1px 1px 1px 1px);clip: rect(1px, 1px, 1px, 1px);height: 1px;margin: -1px;overflow: hidden;padding: 0;position: absolute;width: 1px;}#sk-container-id-1 div.sk-estimator {font-family: monospace;background-color: #f0f8ff;border: 1px dotted black;border-radius: 0.25em;box-sizing: border-box;margin-bottom: 0.5em;}#sk-container-id-1 div.sk-estimator:hover {background-color: #d4ebff;}#sk-container-id-1 div.sk-parallel-item::after {content: \"\";width: 100%;border-bottom: 1px solid gray;flex-grow: 1;}#sk-container-id-1 div.sk-label:hover label.sk-toggleable__label {background-color: #d4ebff;}#sk-container-id-1 div.sk-serial::before {content: \"\";position: absolute;border-left: 1px solid gray;box-sizing: border-box;top: 0;bottom: 0;left: 50%;z-index: 0;}#sk-container-id-1 div.sk-serial {display: flex;flex-direction: column;align-items: center;background-color: white;padding-right: 0.2em;padding-left: 0.2em;position: relative;}#sk-container-id-1 div.sk-item {position: relative;z-index: 1;}#sk-container-id-1 div.sk-parallel {display: flex;align-items: stretch;justify-content: center;background-color: white;position: relative;}#sk-container-id-1 div.sk-item::before, #sk-container-id-1 div.sk-parallel-item::before {content: \"\";position: absolute;border-left: 1px solid gray;box-sizing: border-box;top: 0;bottom: 0;left: 50%;z-index: -1;}#sk-container-id-1 div.sk-parallel-item {display: flex;flex-direction: column;z-index: 1;position: relative;background-color: white;}#sk-container-id-1 div.sk-parallel-item:first-child::after {align-self: flex-end;width: 50%;}#sk-container-id-1 div.sk-parallel-item:last-child::after {align-self: flex-start;width: 50%;}#sk-container-id-1 div.sk-parallel-item:only-child::after {width: 0;}#sk-container-id-1 div.sk-dashed-wrapped {border: 1px dashed gray;margin: 0 0.4em 0.5em 0.4em;box-sizing: border-box;padding-bottom: 0.4em;background-color: white;}#sk-container-id-1 div.sk-label label {font-family: monospace;font-weight: bold;display: inline-block;line-height: 1.2em;}#sk-container-id-1 div.sk-label-container {text-align: center;}#sk-container-id-1 div.sk-container {/* jupyter's `normalize.less` sets `[hidden] { display: none; }` but bootstrap.min.css set `[hidden] { display: none !important; }` so we also need the `!important` here to be able to override the default hidden behavior on the sphinx rendered scikit-learn.org. See: https://github.com/scikit-learn/scikit-learn/issues/21755 */display: inline-block !important;position: relative;}#sk-container-id-1 div.sk-text-repr-fallback {display: none;}</style><div id=\"sk-container-id-1\" class=\"sk-top-container\"><div class=\"sk-text-repr-fallback\"><pre>RandomForestClassifier()</pre><b>In a Jupyter environment, please rerun this cell to show the HTML representation or trust the notebook. <br />On GitHub, the HTML representation is unable to render, please try loading this page with nbviewer.org.</b></div><div class=\"sk-container\" hidden><div class=\"sk-item\"><div class=\"sk-estimator sk-toggleable\"><input class=\"sk-toggleable__control sk-hidden--visually\" id=\"sk-estimator-id-1\" type=\"checkbox\" checked><label for=\"sk-estimator-id-1\" class=\"sk-toggleable__label sk-toggleable__label-arrow\">RandomForestClassifier</label><div class=\"sk-toggleable__content\"><pre>RandomForestClassifier()</pre></div></div></div></div></div>"
            ]
          },
          "metadata": {},
          "execution_count": 36
        }
      ]
    },
    {
      "cell_type": "markdown",
      "source": [
        "#Predict Test Data"
      ],
      "metadata": {
        "id": "OdeTBuFsYNMm"
      }
    },
    {
      "cell_type": "code",
      "source": [
        "y_pred = rf.predict(x_test)"
      ],
      "metadata": {
        "id": "E7sUO1sXWe2H"
      },
      "execution_count": 37,
      "outputs": []
    },
    {
      "cell_type": "code",
      "source": [
        "y_pred"
      ],
      "metadata": {
        "colab": {
          "base_uri": "https://localhost:8080/"
        },
        "id": "xCQzNX0tWe5S",
        "outputId": "6e734e44-2469-452e-acc7-9dd58aba5b6a"
      },
      "execution_count": 38,
      "outputs": [
        {
          "output_type": "execute_result",
          "data": {
            "text/plain": [
              "array([7, 1, 9, 7, 4, 5, 2, 9, 5, 5, 3, 9, 3, 4, 4, 5, 2, 7, 4, 2, 5, 4,\n",
              "       9, 5, 0, 3, 3, 6, 7, 3, 0, 1, 8, 4, 6, 3, 5, 0, 2, 7, 2, 1, 7, 0,\n",
              "       4, 1, 9, 4, 6, 4, 7, 4, 5, 4, 7, 1, 7, 0, 1, 7, 6, 1, 4, 0, 0, 1,\n",
              "       6, 8, 2, 3, 8, 1, 9, 2, 8, 7, 5, 3, 2, 3, 4, 7, 1, 4, 4, 8, 5, 8,\n",
              "       6, 5, 1, 8, 3, 1, 5, 9, 0, 6, 0, 1, 2, 7, 4, 8, 1, 7, 8, 6, 1, 3,\n",
              "       5, 6, 6, 3, 0, 3, 8, 2, 3, 0, 0, 6, 0, 5, 5, 5, 5, 1, 0, 0, 5, 7,\n",
              "       3, 9, 9, 2, 7, 8, 2, 4, 7, 7, 2, 8, 7, 0, 0, 8, 3, 4, 9, 5, 4, 6,\n",
              "       2, 1, 3, 3, 2, 9, 2, 1, 9, 7, 7, 7, 1, 5, 9, 8, 1, 0, 4, 2, 9, 6,\n",
              "       2, 4, 0, 8, 9, 9, 5, 2, 2, 8, 0, 5, 8, 0, 2, 1, 4, 6, 5, 5, 0, 0,\n",
              "       6, 8, 2, 1, 7, 9, 1, 9, 7, 8, 0, 1, 2, 0, 2, 3, 7, 8, 6, 9, 5, 2,\n",
              "       6, 4, 8, 4, 8, 7, 1, 4, 9, 2, 2, 0, 1, 9, 6, 6, 3, 1, 4, 5, 5, 6,\n",
              "       4, 7, 9, 4, 4, 2, 3, 1, 2, 6, 5, 1, 8, 2, 3, 4, 1, 1, 2, 3, 5, 7,\n",
              "       7, 4, 7, 5, 6, 6, 9, 4, 3, 1, 1, 8, 5, 3, 3, 1, 4, 7, 9, 3, 5, 3,\n",
              "       2, 7, 7, 8, 9, 1, 0, 6, 3, 8, 3, 9, 2, 3, 0, 7, 3, 1, 3, 3, 1, 9,\n",
              "       9, 1, 3, 8, 1, 3, 8, 1, 0, 0, 0, 3, 4, 2, 9, 9, 4, 1, 5, 0, 3, 5,\n",
              "       8, 5, 5, 9, 0, 2, 9, 0, 5, 8, 5, 5, 0, 5, 0, 3, 5, 6, 4, 4, 0, 1,\n",
              "       7, 6, 7, 0, 5, 7, 6, 4, 0, 4, 3, 9, 3, 1, 9, 9, 0, 6, 2, 8, 3, 1,\n",
              "       9, 2, 6, 1, 9, 9, 5, 0, 9, 3, 6, 0, 0, 2, 2, 3, 4, 5, 8, 1, 4, 7,\n",
              "       1, 8, 0, 5, 9, 2, 7, 3, 7, 4, 7, 1, 6, 0, 4, 2, 8, 5, 1, 2, 3, 5,\n",
              "       4, 5, 9, 5, 7, 8, 3, 8, 2, 8, 5, 2, 1, 2, 2, 4, 9, 7, 9, 7, 3, 0,\n",
              "       6, 9, 0, 2, 9, 2, 0, 5, 5, 0, 5, 1, 7, 0, 6, 8, 9, 9, 6, 4, 2, 7,\n",
              "       4, 6, 0, 4, 0, 5, 7, 2, 9, 1, 8, 6, 5, 0, 7, 8, 4, 9, 2, 0, 8, 0,\n",
              "       3, 4, 3, 6, 4, 6, 6, 6, 0, 5, 2, 4, 1, 7, 1, 1, 6, 1, 0, 6, 3, 8,\n",
              "       7, 3, 7, 5, 8, 7, 3, 3, 9, 3, 1, 0, 4, 7, 4, 1, 1, 1, 3, 8, 4, 0,\n",
              "       1, 6, 7, 7, 8, 2, 8, 5, 4, 7, 9, 8])"
            ]
          },
          "metadata": {},
          "execution_count": 38
        }
      ]
    },
    {
      "cell_type": "code",
      "source": [
        "from sklearn.metrics import confusion_matrix , classification_report"
      ],
      "metadata": {
        "id": "ZwF7JEheYcgx"
      },
      "execution_count": 39,
      "outputs": []
    },
    {
      "cell_type": "code",
      "source": [
        "confusion_matrix(y_test , y_pred)"
      ],
      "metadata": {
        "colab": {
          "base_uri": "https://localhost:8080/"
        },
        "id": "3AJCJuHJYc__",
        "outputId": "b9759faf-c749-45b4-8f25-da224a096ef8"
      },
      "execution_count": 40,
      "outputs": [
        {
          "output_type": "execute_result",
          "data": {
            "text/plain": [
              "array([[57,  0,  0,  0,  0,  0,  0,  0,  0,  0],\n",
              "       [ 0, 58,  0,  0,  0,  0,  0,  0,  0,  0],\n",
              "       [ 0,  0, 52,  0,  0,  0,  0,  0,  0,  0],\n",
              "       [ 1,  0,  0, 56,  0,  1,  0,  0,  1,  1],\n",
              "       [ 0,  0,  0,  0, 53,  0,  0,  2,  0,  1],\n",
              "       [ 0,  0,  0,  0,  0, 56,  1,  0,  0,  0],\n",
              "       [ 1,  1,  0,  0,  1,  0, 42,  0,  0,  0],\n",
              "       [ 0,  0,  0,  0,  1,  0,  0, 52,  0,  0],\n",
              "       [ 0,  2,  1,  0,  1,  0,  0,  1, 46,  1],\n",
              "       [ 0,  0,  0,  0,  0,  1,  0,  1,  0, 48]])"
            ]
          },
          "metadata": {},
          "execution_count": 40
        }
      ]
    },
    {
      "cell_type": "code",
      "source": [
        "print(classification_report(y_test , y_pred))"
      ],
      "metadata": {
        "colab": {
          "base_uri": "https://localhost:8080/"
        },
        "id": "tHUya7GKYwM1",
        "outputId": "ff43e9fb-e50b-474e-d76e-051d994667ae"
      },
      "execution_count": 41,
      "outputs": [
        {
          "output_type": "stream",
          "name": "stdout",
          "text": [
            "              precision    recall  f1-score   support\n",
            "\n",
            "           0       0.97      1.00      0.98        57\n",
            "           1       0.95      1.00      0.97        58\n",
            "           2       0.98      1.00      0.99        52\n",
            "           3       1.00      0.93      0.97        60\n",
            "           4       0.95      0.95      0.95        56\n",
            "           5       0.97      0.98      0.97        57\n",
            "           6       0.98      0.93      0.95        45\n",
            "           7       0.93      0.98      0.95        53\n",
            "           8       0.98      0.88      0.93        52\n",
            "           9       0.94      0.96      0.95        50\n",
            "\n",
            "    accuracy                           0.96       540\n",
            "   macro avg       0.96      0.96      0.96       540\n",
            "weighted avg       0.96      0.96      0.96       540\n",
            "\n"
          ]
        }
      ]
    }
  ]
}